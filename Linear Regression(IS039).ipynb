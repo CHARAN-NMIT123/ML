{
 "cells": [
  {
   "cell_type": "code",
   "execution_count": 9,
   "id": "e741cc3e",
   "metadata": {},
   "outputs": [
    {
     "data": {
      "image/png": "[encoded data removed]",
      "text/plain": [
       "<Figure size 432x288 with 1 Axes>"
      ]
     },
     "metadata": {
      "needs_background": "light"
     },
     "output_type": "display_data"
    },
    {
     "name": "stdout",
     "output_type": "stream",
     "text": [
      "Correlation Matrix:\n",
      "[[1.         0.87215729]\n",
      " [0.87215729 1.        ]]\n",
      "Regression Parameters:\n",
      "Slope: 1.2135472539083583\n",
      "Intercept: -4.211504005424089\n",
      "\n",
      "Metrics:\n",
      "SSE: 664.2397254063368\n",
      "SSR: 2111.0386393116255\n",
      "SST: 2775.2783647179626\n",
      "R-squared: 0.7606583419339847\n"
     ]
    }
   ],
   "source": [
    "\n",
    "import numpy as np\n",
    "import pandas as pd\n",
    "import matplotlib.pyplot as plt\n",
    "from sklearn.linear_model import LinearRegression\n",
    "data = pd.read_csv(\"/home/ignis/Desktop/Food-Truck-LineReg.csv\")\n",
    "x = data['x']\n",
    "y = data['y']\n",
    "plt.scatter(x, y)\n",
    "m, b = np.polyfit(x, y, 1)\n",
    "plt.plot(x, m*x + b)\n",
    "plt.xlabel('x')\n",
    "plt.ylabel('y')\n",
    "plt.title('Scatter Plot of x vs y')\n",
    "plt.show()\n",
    "correlation_matrix = np.corrcoef(x, y)\n",
    "print('Correlation Matrix:')\n",
    "print(correlation_matrix)\n",
    "x = x.values.reshape(-1, 1)\n",
    "regression_model = LinearRegression()\n",
    "regression_model.fit(x, y)\n",
    "slope = regression_model.coef_[0]\n",
    "intercept = regression_model.intercept_\n",
    "y_pred = regression_model.predict(x)\n",
    "SSE = np.sum((y - y_pred) ** 2) \n",
    "SSR = np.sum((y_pred - np.mean(y)) ** 2) \n",
    "SST = np.sum((y - np.mean(y)) ** 2)\n",
    "R_squared = 1 - (SSE / SST)\n",
    "print('Regression Parameters:')\n",
    "print('Slope:', slope)\n",
    "print('Intercept:', intercept)\n",
    "\n",
    "print('\\nMetrics:')\n",
    "print('SSE:', SSE)\n",
    "print('SSR:', SSR)\n",
    "print('SST:', SST)\n",
    "print('R-squared:', R_squared)\n"
   ]
  },
  {
   "cell_type": "code",
   "execution_count": 14,
   "id": "6062fb2d",
   "metadata": {},
   "outputs": [
    {
     "data": {
      "image/png": "[encoded data removed]",
      "text/plain": [
       "<Figure size 432x288 with 1 Axes>"
      ]
     },
     "metadata": {
      "needs_background": "light"
     },
     "output_type": "display_data"
    },
    {
     "name": "stdout",
     "output_type": "stream",
     "text": [
      "Correlation Matrix:\n",
      "[[1.         0.87215729]\n",
      " [0.87215729 1.        ]]\n",
      "Correlation coefficient: 0.8721572919685905\n",
      "Metrics:\n",
      "SSE: 664.2397254063369\n",
      "SSR: 2111.0386393116264\n",
      "SST: 2775.2783647179626\n",
      "R-squared: 0.7606583419339846\n"
     ]
    }
   ],
   "source": [
    "import numpy as np\n",
    "import pandas as pd\n",
    "import matplotlib.pyplot as plt\n",
    "data = pd.read_csv(\"/home/ignis/Desktop/Food-Truck-LineReg.csv\")\n",
    "x = data['x']\n",
    "y = data['y']\n",
    "plt.scatter(x, y)\n",
    "mean_x = np.mean(x)\n",
    "mean_y = np.mean(y)\n",
    "numerator = np.sum((x - mean_x) * (y - mean_y))\n",
    "denominator = np.sum((x - mean_x) ** 2)\n",
    "slope = numerator / denominator\n",
    "intercept = mean_y - slope * mean_x\n",
    "y_pred = slope * x + intercept\n",
    "plt.plot(x, y_pred)\n",
    "plt.xlabel('x')\n",
    "plt.ylabel('y')\n",
    "plt.title('Scatter Plot of x vs y')\n",
    "plt.show()\n",
    "correlation_matrix = np.corrcoef(x, y)\n",
    "correlation = correlation_matrix[0, 1]\n",
    "print('Correlation Matrix:')\n",
    "print(correlation_matrix)\n",
    "print('Correlation coefficient:', correlation)\n",
    "SSE = np.sum((y - y_pred) ** 2)\n",
    "SSR = np.sum((y_pred - mean_y) ** 2)\n",
    "SST = np.sum((y - mean_y) ** 2)\n",
    "R_squared = 1 - (SSE / SST)\n",
    "print('Metrics:')\n",
    "print('SSE:', SSE)\n",
    "print('SSR:', SSR)\n",
    "print('SST:', SST)\n",
    "print('R-squared:', R_squared)"
   ]
  },
  {
   "cell_type": "code",
   "execution_count": null,
   "id": "612a4bef",
   "metadata": {},
   "outputs": [],
   "source": []
  }
 ],
 "metadata": {
  "kernelspec": {
   "display_name": "Python 3 (ipykernel)",
   "language": "python",
   "name": "python3"
  },
  "language_info": {
   "codemirror_mode": {
    "name": "ipython",
    "version": 3
   },
   "file_extension": ".py",
   "mimetype": "text/x-python",
   "name": "python",
   "nbconvert_exporter": "python",
   "pygments_lexer": "ipython3",
   "version": "3.10.12"
  }
 },
 "nbformat": 4,
 "nbformat_minor": 5
}
