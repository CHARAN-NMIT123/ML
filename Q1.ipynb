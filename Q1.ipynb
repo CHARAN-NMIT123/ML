{
  "metadata": {
    "language_info": {
      "codemirror_mode": {
        "name": "python",
        "version": 3
      },
      "file_extension": ".py",
      "mimetype": "text/x-python",
      "name": "python",
      "nbconvert_exporter": "python",
      "pygments_lexer": "ipython3",
      "version": "3.8"
    },
    "kernelspec": {
      "name": "python",
      "display_name": "Python (Pyodide)",
      "language": "python"
    }
  },
  "nbformat_minor": 4,
  "nbformat": 4,
  "cells": [
    {
      "cell_type": "code",
      "source": "x=[115.3, 195.5, 120.5, 110.2, 90.4, 105.6, 110.9, 116.3, 122.3, 125.4,90.4]",
      "metadata": {
        "trusted": true
      },
      "execution_count": 1,
      "outputs": []
    },
    {
      "cell_type": "code",
      "source": "mean = sum(x) / len(x)\nmean",
      "metadata": {
        "trusted": true
      },
      "execution_count": 4,
      "outputs": [
        {
          "execution_count": 4,
          "output_type": "execute_result",
          "data": {
            "text/plain": "118.43636363636365"
          },
          "metadata": {}
        }
      ]
    },
    {
      "cell_type": "code",
      "source": "import statistics\nprint(statistics.mean(x))",
      "metadata": {
        "trusted": true
      },
      "execution_count": 5,
      "outputs": [
        {
          "name": "stdout",
          "text": "118.43636363636364\n",
          "output_type": "stream"
        }
      ]
    },
    {
      "cell_type": "code",
      "source": "x.sort()\nx",
      "metadata": {
        "trusted": true
      },
      "execution_count": 6,
      "outputs": [
        {
          "execution_count": 6,
          "output_type": "execute_result",
          "data": {
            "text/plain": "[90.4, 90.4, 105.6, 110.2, 110.9, 115.3, 116.3, 120.5, 122.3, 125.4, 195.5]"
          },
          "metadata": {}
        }
      ]
    },
    {
      "cell_type": "code",
      "source": "n=len(x)\nn",
      "metadata": {
        "trusted": true
      },
      "execution_count": 8,
      "outputs": [
        {
          "execution_count": 8,
          "output_type": "execute_result",
          "data": {
            "text/plain": "11"
          },
          "metadata": {}
        }
      ]
    },
    {
      "cell_type": "code",
      "source": "if n%2==0:\n    median1=x[n//2]\n    median2=x[n//2-1]\n    median=(median1+median2)/2\nelse:\n    median=x[n//2]\nprint(median)",
      "metadata": {
        "trusted": true
      },
      "execution_count": 9,
      "outputs": [
        {
          "name": "stdout",
          "text": "115.3\n",
          "output_type": "stream"
        }
      ]
    },
    {
      "cell_type": "code",
      "source": "print(statistics.median(x))",
      "metadata": {
        "trusted": true
      },
      "execution_count": 11,
      "outputs": [
        {
          "name": "stdout",
          "text": "115.3\n",
          "output_type": "stream"
        }
      ]
    },
    {
      "cell_type": "code",
      "source": "frequency = {}\nfor value in x:\n        frequency[value] = frequency.get(value, 0) + 1",
      "metadata": {
        "trusted": true
      },
      "execution_count": 18,
      "outputs": []
    },
    {
      "cell_type": "code",
      "source": "frequency",
      "metadata": {
        "trusted": true
      },
      "execution_count": 20,
      "outputs": [
        {
          "execution_count": 20,
          "output_type": "execute_result",
          "data": {
            "text/plain": "{90.4: 2,\n 105.6: 1,\n 110.2: 1,\n 110.9: 1,\n 115.3: 1,\n 116.3: 1,\n 120.5: 1,\n 122.3: 1,\n 125.4: 1,\n 195.5: 1}"
          },
          "metadata": {}
        }
      ]
    },
    {
      "cell_type": "code",
      "source": "frequences=list(frequency.values())\nprint(frequences)",
      "metadata": {
        "trusted": true
      },
      "execution_count": 23,
      "outputs": [
        {
          "name": "stdout",
          "text": "[2, 1, 1, 1, 1, 1, 1, 1, 1, 1]\n",
          "output_type": "stream"
        }
      ]
    },
    {
      "cell_type": "code",
      "source": "most_frequent=max(frequences)\nprint(most_frequent)",
      "metadata": {
        "trusted": true
      },
      "execution_count": 24,
      "outputs": [
        {
          "name": "stdout",
          "text": "2\n",
          "output_type": "stream"
        }
      ]
    },
    {
      "cell_type": "code",
      "source": "mode=[key for key,value in frequency.items()\n       if value==most_frequent]\nprint(mode)",
      "metadata": {
        "trusted": true
      },
      "execution_count": 28,
      "outputs": [
        {
          "name": "stdout",
          "text": "[90.4]\n",
          "output_type": "stream"
        }
      ]
    },
    {
      "cell_type": "code",
      "source": "print(statistics.mode(x))",
      "metadata": {
        "trusted": true
      },
      "execution_count": 29,
      "outputs": [
        {
          "name": "stdout",
          "text": "90.4\n",
          "output_type": "stream"
        }
      ]
    },
    {
      "cell_type": "code",
      "source": "variance=sum((i-mean)**2 for i in x)/(n-1)\nprint(variance)",
      "metadata": {
        "trusted": true
      },
      "execution_count": 33,
      "outputs": [
        {
          "name": "stdout",
          "text": "788.2365454545454\n",
          "output_type": "stream"
        }
      ]
    },
    {
      "cell_type": "code",
      "source": "print(statistics.variance(x))",
      "metadata": {
        "trusted": true
      },
      "execution_count": 35,
      "outputs": [
        {
          "name": "stdout",
          "text": "788.2365454545454\n",
          "output_type": "stream"
        }
      ]
    },
    {
      "cell_type": "code",
      "source": "std=variance**0.5\nprint(std)",
      "metadata": {
        "trusted": true
      },
      "execution_count": 36,
      "outputs": [
        {
          "name": "stdout",
          "text": "28.07555067054866\n",
          "output_type": "stream"
        }
      ]
    },
    {
      "cell_type": "code",
      "source": "print(statistics.stdev(x))",
      "metadata": {
        "trusted": true
      },
      "execution_count": 37,
      "outputs": [
        {
          "name": "stdout",
          "text": "28.07555067054866\n",
          "output_type": "stream"
        }
      ]
    },
    {
      "cell_type": "code",
      "source": "import numpy as np\n\n# Define the array of values\ndata = np.array([115.3, 195.5, 120.5, 110.2, 90.4, 105.6, 110.9, 116.3, 122.3, 125.4])\n\n# Compute the min-max normalization\nmin_value = np.min(data)\nmax_value = np.max(data)\nnormalized_data = (data - min_value) / (max_value - min_value)\n\nprint(normalized_data)\n",
      "metadata": {
        "trusted": true
      },
      "execution_count": 39,
      "outputs": [
        {
          "ename": "<class 'ModuleNotFoundError'>",
          "evalue": "The module 'numpy' is included in the Pyodide distribution, but it is not installed.\nYou can install it by calling:\n  await micropip.install(\"numpy\") in Python, or\n  await pyodide.loadPackage(\"numpy\") in JavaScript\nSee https://pyodide.org/en/stable/usage/loading-packages.html for more details.",
          "traceback": [
            "\u001b[0;31m---------------------------------------------------------------------------\u001b[0m",
            "\u001b[0;31mModuleNotFoundError\u001b[0m                       Traceback (most recent call last)",
            "Cell \u001b[0;32mIn[39], line 1\u001b[0m\n\u001b[0;32m----> 1\u001b[0m \u001b[38;5;28;01mimport\u001b[39;00m \u001b[38;5;21;01mnumpy\u001b[39;00m \u001b[38;5;28;01mas\u001b[39;00m \u001b[38;5;21;01mnp\u001b[39;00m\n\u001b[1;32m      3\u001b[0m \u001b[38;5;66;03m# Define the array of values\u001b[39;00m\n\u001b[1;32m      4\u001b[0m x \u001b[38;5;241m=\u001b[39m np\u001b[38;5;241m.\u001b[39marray([\u001b[38;5;241m115.3\u001b[39m, \u001b[38;5;241m195.5\u001b[39m, \u001b[38;5;241m120.5\u001b[39m, \u001b[38;5;241m110.2\u001b[39m, \u001b[38;5;241m90.4\u001b[39m, \u001b[38;5;241m105.6\u001b[39m, \u001b[38;5;241m110.9\u001b[39m, \u001b[38;5;241m116.3\u001b[39m, \u001b[38;5;241m122.3\u001b[39m, \u001b[38;5;241m125.4\u001b[39m])\n",
            "\u001b[0;31mModuleNotFoundError\u001b[0m: The module 'numpy' is included in the Pyodide distribution, but it is not installed.\nYou can install it by calling:\n  await micropip.install(\"numpy\") in Python, or\n  await pyodide.loadPackage(\"numpy\") in JavaScript\nSee https://pyodide.org/en/stable/usage/loading-packages.html for more details."
          ],
          "output_type": "error"
        }
      ]
    },
    {
      "cell_type": "code",
      "source": "",
      "metadata": {},
      "execution_count": null,
      "outputs": []
    }
  ]
}